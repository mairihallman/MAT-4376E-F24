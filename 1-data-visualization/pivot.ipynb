{
 "cells": [
  {
   "cell_type": "code",
   "execution_count": 1,
   "metadata": {},
   "outputs": [],
   "source": [
    "import pandas as pd"
   ]
  },
  {
   "cell_type": "code",
   "execution_count": 2,
   "metadata": {},
   "outputs": [
    {
     "data": {
      "text/html": [
       "<div>\n",
       "<style scoped>\n",
       "    .dataframe tbody tr th:only-of-type {\n",
       "        vertical-align: middle;\n",
       "    }\n",
       "\n",
       "    .dataframe tbody tr th {\n",
       "        vertical-align: top;\n",
       "    }\n",
       "\n",
       "    .dataframe thead th {\n",
       "        text-align: right;\n",
       "    }\n",
       "</style>\n",
       "<table border=\"1\" class=\"dataframe\">\n",
       "  <thead>\n",
       "    <tr style=\"text-align: right;\">\n",
       "      <th></th>\n",
       "      <th>State</th>\n",
       "      <th>Day</th>\n",
       "      <th>EWMA</th>\n",
       "    </tr>\n",
       "  </thead>\n",
       "  <tbody>\n",
       "    <tr>\n",
       "      <th>0</th>\n",
       "      <td>Florida</td>\n",
       "      <td>2016-09-01</td>\n",
       "      <td>-2.405676</td>\n",
       "    </tr>\n",
       "    <tr>\n",
       "      <th>1</th>\n",
       "      <td>Florida</td>\n",
       "      <td>2016-09-02</td>\n",
       "      <td>-3.141129</td>\n",
       "    </tr>\n",
       "    <tr>\n",
       "      <th>2</th>\n",
       "      <td>Florida</td>\n",
       "      <td>2016-09-03</td>\n",
       "      <td>-3.324992</td>\n",
       "    </tr>\n",
       "    <tr>\n",
       "      <th>3</th>\n",
       "      <td>Florida</td>\n",
       "      <td>2016-09-04</td>\n",
       "      <td>-3.158951</td>\n",
       "    </tr>\n",
       "    <tr>\n",
       "      <th>4</th>\n",
       "      <td>Florida</td>\n",
       "      <td>2016-09-05</td>\n",
       "      <td>-3.075930</td>\n",
       "    </tr>\n",
       "  </tbody>\n",
       "</table>\n",
       "</div>"
      ],
      "text/plain": [
       "     State         Day      EWMA\n",
       "0  Florida  2016-09-01 -2.405676\n",
       "1  Florida  2016-09-02 -3.141129\n",
       "2  Florida  2016-09-03 -3.324992\n",
       "3  Florida  2016-09-04 -3.158951\n",
       "4  Florida  2016-09-05 -3.075930"
      ]
     },
     "execution_count": 2,
     "metadata": {},
     "output_type": "execute_result"
    }
   ],
   "source": [
    "df = pd.read_csv(\"data-p1/Sheet6_Summary.csv\")\n",
    "df.head()"
   ]
  },
  {
   "cell_type": "code",
   "execution_count": 3,
   "metadata": {},
   "outputs": [
    {
     "name": "stdout",
     "output_type": "stream",
     "text": [
      "State         Day   Florida  Michigan  Pennsylvania      U.S.  Wisconsin\n",
      "0      2016-09-01 -2.405676  9.121301      4.407077  3.003801   5.915608\n",
      "1      2016-09-02 -3.141129  8.724458      4.249351  3.028934   7.251028\n",
      "2      2016-09-03 -3.324992  8.625247      3.387067  2.984384   7.584883\n",
      "3      2016-09-04 -3.158951  8.585563      3.042153  3.087703   7.718425\n",
      "4      2016-09-05 -3.075930  8.565721      2.869697  3.033526   7.785196\n",
      "..            ...       ...       ...           ...       ...        ...\n",
      "63     2016-11-03  0.115219  3.309779      1.822752  2.866519   6.065869\n",
      "64     2016-11-04  0.183900  3.371393      1.722860  2.969300   6.014983\n",
      "65     2016-11-05  0.296375  3.302022      1.460913  3.007468   5.989541\n",
      "66     2016-11-06  0.201861  3.162795      1.462989  3.015156   5.975002\n",
      "67     2016-11-07  0.028450  2.798547      1.592811  2.724448   5.966612\n",
      "\n",
      "[68 rows x 6 columns]\n"
     ]
    }
   ],
   "source": [
    "# Pivot the DataFrame\n",
    "df_pivoted = df.pivot(index='Day', columns='State', values='EWMA').fillna(0)\n",
    "\n",
    "# Optional: reset index if you need to flatten the DataFrame\n",
    "df_pivoted = df_pivoted.reset_index()\n",
    "\n",
    "print(df_pivoted)"
   ]
  },
  {
   "cell_type": "code",
   "execution_count": 4,
   "metadata": {},
   "outputs": [],
   "source": [
    "df_pivoted.to_csv(\"data-p1/pivoted_EWMA.csv\",index=False)"
   ]
  }
 ],
 "metadata": {
  "kernelspec": {
   "display_name": ".conda",
   "language": "python",
   "name": "python3"
  },
  "language_info": {
   "codemirror_mode": {
    "name": "ipython",
    "version": 3
   },
   "file_extension": ".py",
   "mimetype": "text/x-python",
   "name": "python",
   "nbconvert_exporter": "python",
   "pygments_lexer": "ipython3",
   "version": "3.11.10"
  }
 },
 "nbformat": 4,
 "nbformat_minor": 2
}
