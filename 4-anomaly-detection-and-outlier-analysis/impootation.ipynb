{
 "cells": [
  {
   "cell_type": "code",
   "execution_count": 1,
   "metadata": {},
   "outputs": [],
   "source": [
    "import pandas as pd\n",
    "import numpy as np"
   ]
  },
  {
   "cell_type": "code",
   "execution_count": 2,
   "metadata": {},
   "outputs": [
    {
     "data": {
      "text/html": [
       "<div>\n",
       "<style scoped>\n",
       "    .dataframe tbody tr th:only-of-type {\n",
       "        vertical-align: middle;\n",
       "    }\n",
       "\n",
       "    .dataframe tbody tr th {\n",
       "        vertical-align: top;\n",
       "    }\n",
       "\n",
       "    .dataframe thead th {\n",
       "        text-align: right;\n",
       "    }\n",
       "</style>\n",
       "<table border=\"1\" class=\"dataframe\">\n",
       "  <thead>\n",
       "    <tr style=\"text-align: right;\">\n",
       "      <th></th>\n",
       "      <th>YEAR</th>\n",
       "      <th>DAY_OF_WEEK</th>\n",
       "      <th>FL_DATE</th>\n",
       "      <th>ORIGIN_AIRPORT_ID</th>\n",
       "      <th>ORIGIN_AIRPORT_SEQ_ID</th>\n",
       "      <th>ORIGIN_CITY_MARKET_ID</th>\n",
       "      <th>ORIGIN_CITY_NAME</th>\n",
       "      <th>DEST_AIRPORT_ID</th>\n",
       "      <th>DEST_AIRPORT_SEQ_ID</th>\n",
       "      <th>DEST_CITY_MARKET_ID</th>\n",
       "      <th>DEST_CITY_NAME</th>\n",
       "      <th>DEST_STATE_ABR</th>\n",
       "      <th>DEP_DELAY</th>\n",
       "      <th>ARR_TIME</th>\n",
       "      <th>ARR_DELAY</th>\n",
       "      <th>ARR_DELAY_NEW</th>\n",
       "      <th>ARR_DEL15</th>\n",
       "      <th>Unnamed: 17</th>\n",
       "    </tr>\n",
       "  </thead>\n",
       "  <tbody>\n",
       "    <tr>\n",
       "      <th>0</th>\n",
       "      <td>2019</td>\n",
       "      <td>6</td>\n",
       "      <td>2019-01-19</td>\n",
       "      <td>13487</td>\n",
       "      <td>1348702</td>\n",
       "      <td>31650</td>\n",
       "      <td>Minneapolis, MN</td>\n",
       "      <td>11193</td>\n",
       "      <td>1119302</td>\n",
       "      <td>33105</td>\n",
       "      <td>Cincinnati, OH</td>\n",
       "      <td>KY</td>\n",
       "      <td>-10.0</td>\n",
       "      <td>1832.0</td>\n",
       "      <td>-25.0</td>\n",
       "      <td>0.0</td>\n",
       "      <td>0.0</td>\n",
       "      <td>NaN</td>\n",
       "    </tr>\n",
       "    <tr>\n",
       "      <th>1</th>\n",
       "      <td>2019</td>\n",
       "      <td>7</td>\n",
       "      <td>2019-01-20</td>\n",
       "      <td>13487</td>\n",
       "      <td>1348702</td>\n",
       "      <td>31650</td>\n",
       "      <td>Minneapolis, MN</td>\n",
       "      <td>11193</td>\n",
       "      <td>1119302</td>\n",
       "      <td>33105</td>\n",
       "      <td>Cincinnati, OH</td>\n",
       "      <td>KY</td>\n",
       "      <td>-4.0</td>\n",
       "      <td>1825.0</td>\n",
       "      <td>-37.0</td>\n",
       "      <td>0.0</td>\n",
       "      <td>0.0</td>\n",
       "      <td>NaN</td>\n",
       "    </tr>\n",
       "    <tr>\n",
       "      <th>2</th>\n",
       "      <td>2019</td>\n",
       "      <td>1</td>\n",
       "      <td>2019-01-21</td>\n",
       "      <td>13487</td>\n",
       "      <td>1348702</td>\n",
       "      <td>31650</td>\n",
       "      <td>Minneapolis, MN</td>\n",
       "      <td>11193</td>\n",
       "      <td>1119302</td>\n",
       "      <td>33105</td>\n",
       "      <td>Cincinnati, OH</td>\n",
       "      <td>KY</td>\n",
       "      <td>-9.0</td>\n",
       "      <td>1845.0</td>\n",
       "      <td>-17.0</td>\n",
       "      <td>0.0</td>\n",
       "      <td>0.0</td>\n",
       "      <td>NaN</td>\n",
       "    </tr>\n",
       "    <tr>\n",
       "      <th>3</th>\n",
       "      <td>2019</td>\n",
       "      <td>2</td>\n",
       "      <td>2019-01-22</td>\n",
       "      <td>13487</td>\n",
       "      <td>1348702</td>\n",
       "      <td>31650</td>\n",
       "      <td>Minneapolis, MN</td>\n",
       "      <td>11193</td>\n",
       "      <td>1119302</td>\n",
       "      <td>33105</td>\n",
       "      <td>Cincinnati, OH</td>\n",
       "      <td>KY</td>\n",
       "      <td>-4.0</td>\n",
       "      <td>1839.0</td>\n",
       "      <td>-23.0</td>\n",
       "      <td>0.0</td>\n",
       "      <td>0.0</td>\n",
       "      <td>NaN</td>\n",
       "    </tr>\n",
       "    <tr>\n",
       "      <th>4</th>\n",
       "      <td>2019</td>\n",
       "      <td>3</td>\n",
       "      <td>2019-01-23</td>\n",
       "      <td>13487</td>\n",
       "      <td>1348702</td>\n",
       "      <td>31650</td>\n",
       "      <td>Minneapolis, MN</td>\n",
       "      <td>11193</td>\n",
       "      <td>1119302</td>\n",
       "      <td>33105</td>\n",
       "      <td>Cincinnati, OH</td>\n",
       "      <td>KY</td>\n",
       "      <td>-6.0</td>\n",
       "      <td>1850.0</td>\n",
       "      <td>-12.0</td>\n",
       "      <td>0.0</td>\n",
       "      <td>0.0</td>\n",
       "      <td>NaN</td>\n",
       "    </tr>\n",
       "    <tr>\n",
       "      <th>...</th>\n",
       "      <td>...</td>\n",
       "      <td>...</td>\n",
       "      <td>...</td>\n",
       "      <td>...</td>\n",
       "      <td>...</td>\n",
       "      <td>...</td>\n",
       "      <td>...</td>\n",
       "      <td>...</td>\n",
       "      <td>...</td>\n",
       "      <td>...</td>\n",
       "      <td>...</td>\n",
       "      <td>...</td>\n",
       "      <td>...</td>\n",
       "      <td>...</td>\n",
       "      <td>...</td>\n",
       "      <td>...</td>\n",
       "      <td>...</td>\n",
       "      <td>...</td>\n",
       "    </tr>\n",
       "    <tr>\n",
       "      <th>583980</th>\n",
       "      <td>2019</td>\n",
       "      <td>3</td>\n",
       "      <td>2019-01-30</td>\n",
       "      <td>14057</td>\n",
       "      <td>1405702</td>\n",
       "      <td>34057</td>\n",
       "      <td>Portland, OR</td>\n",
       "      <td>13930</td>\n",
       "      <td>1393007</td>\n",
       "      <td>30977</td>\n",
       "      <td>Chicago, IL</td>\n",
       "      <td>IL</td>\n",
       "      <td>-9.0</td>\n",
       "      <td>1225.0</td>\n",
       "      <td>-27.0</td>\n",
       "      <td>0.0</td>\n",
       "      <td>0.0</td>\n",
       "      <td>NaN</td>\n",
       "    </tr>\n",
       "    <tr>\n",
       "      <th>583981</th>\n",
       "      <td>2019</td>\n",
       "      <td>3</td>\n",
       "      <td>2019-01-30</td>\n",
       "      <td>13930</td>\n",
       "      <td>1393007</td>\n",
       "      <td>30977</td>\n",
       "      <td>Chicago, IL</td>\n",
       "      <td>14908</td>\n",
       "      <td>1490803</td>\n",
       "      <td>32575</td>\n",
       "      <td>Santa Ana, CA</td>\n",
       "      <td>CA</td>\n",
       "      <td>35.0</td>\n",
       "      <td>2230.0</td>\n",
       "      <td>17.0</td>\n",
       "      <td>17.0</td>\n",
       "      <td>1.0</td>\n",
       "      <td>NaN</td>\n",
       "    </tr>\n",
       "    <tr>\n",
       "      <th>583982</th>\n",
       "      <td>2019</td>\n",
       "      <td>3</td>\n",
       "      <td>2019-01-30</td>\n",
       "      <td>14635</td>\n",
       "      <td>1463502</td>\n",
       "      <td>31714</td>\n",
       "      <td>Fort Myers, FL</td>\n",
       "      <td>13930</td>\n",
       "      <td>1393007</td>\n",
       "      <td>30977</td>\n",
       "      <td>Chicago, IL</td>\n",
       "      <td>IL</td>\n",
       "      <td>132.0</td>\n",
       "      <td>2035.0</td>\n",
       "      <td>113.0</td>\n",
       "      <td>113.0</td>\n",
       "      <td>1.0</td>\n",
       "      <td>NaN</td>\n",
       "    </tr>\n",
       "    <tr>\n",
       "      <th>583983</th>\n",
       "      <td>2019</td>\n",
       "      <td>3</td>\n",
       "      <td>2019-01-30</td>\n",
       "      <td>11618</td>\n",
       "      <td>1161802</td>\n",
       "      <td>31703</td>\n",
       "      <td>Newark, NJ</td>\n",
       "      <td>13930</td>\n",
       "      <td>1393007</td>\n",
       "      <td>30977</td>\n",
       "      <td>Chicago, IL</td>\n",
       "      <td>IL</td>\n",
       "      <td>32.0</td>\n",
       "      <td>841.0</td>\n",
       "      <td>37.0</td>\n",
       "      <td>37.0</td>\n",
       "      <td>1.0</td>\n",
       "      <td>NaN</td>\n",
       "    </tr>\n",
       "    <tr>\n",
       "      <th>583984</th>\n",
       "      <td>2019</td>\n",
       "      <td>3</td>\n",
       "      <td>2019-01-30</td>\n",
       "      <td>14107</td>\n",
       "      <td>1410702</td>\n",
       "      <td>30466</td>\n",
       "      <td>Phoenix, AZ</td>\n",
       "      <td>13930</td>\n",
       "      <td>1393007</td>\n",
       "      <td>30977</td>\n",
       "      <td>Chicago, IL</td>\n",
       "      <td>IL</td>\n",
       "      <td>NaN</td>\n",
       "      <td>NaN</td>\n",
       "      <td>NaN</td>\n",
       "      <td>NaN</td>\n",
       "      <td>NaN</td>\n",
       "      <td>NaN</td>\n",
       "    </tr>\n",
       "  </tbody>\n",
       "</table>\n",
       "<p>583985 rows × 18 columns</p>\n",
       "</div>"
      ],
      "text/plain": [
       "        YEAR  DAY_OF_WEEK     FL_DATE  ORIGIN_AIRPORT_ID  \\\n",
       "0       2019            6  2019-01-19              13487   \n",
       "1       2019            7  2019-01-20              13487   \n",
       "2       2019            1  2019-01-21              13487   \n",
       "3       2019            2  2019-01-22              13487   \n",
       "4       2019            3  2019-01-23              13487   \n",
       "...      ...          ...         ...                ...   \n",
       "583980  2019            3  2019-01-30              14057   \n",
       "583981  2019            3  2019-01-30              13930   \n",
       "583982  2019            3  2019-01-30              14635   \n",
       "583983  2019            3  2019-01-30              11618   \n",
       "583984  2019            3  2019-01-30              14107   \n",
       "\n",
       "        ORIGIN_AIRPORT_SEQ_ID  ORIGIN_CITY_MARKET_ID ORIGIN_CITY_NAME  \\\n",
       "0                     1348702                  31650  Minneapolis, MN   \n",
       "1                     1348702                  31650  Minneapolis, MN   \n",
       "2                     1348702                  31650  Minneapolis, MN   \n",
       "3                     1348702                  31650  Minneapolis, MN   \n",
       "4                     1348702                  31650  Minneapolis, MN   \n",
       "...                       ...                    ...              ...   \n",
       "583980                1405702                  34057     Portland, OR   \n",
       "583981                1393007                  30977      Chicago, IL   \n",
       "583982                1463502                  31714   Fort Myers, FL   \n",
       "583983                1161802                  31703       Newark, NJ   \n",
       "583984                1410702                  30466      Phoenix, AZ   \n",
       "\n",
       "        DEST_AIRPORT_ID  DEST_AIRPORT_SEQ_ID  DEST_CITY_MARKET_ID  \\\n",
       "0                 11193              1119302                33105   \n",
       "1                 11193              1119302                33105   \n",
       "2                 11193              1119302                33105   \n",
       "3                 11193              1119302                33105   \n",
       "4                 11193              1119302                33105   \n",
       "...                 ...                  ...                  ...   \n",
       "583980            13930              1393007                30977   \n",
       "583981            14908              1490803                32575   \n",
       "583982            13930              1393007                30977   \n",
       "583983            13930              1393007                30977   \n",
       "583984            13930              1393007                30977   \n",
       "\n",
       "        DEST_CITY_NAME DEST_STATE_ABR  DEP_DELAY  ARR_TIME  ARR_DELAY  \\\n",
       "0       Cincinnati, OH             KY      -10.0    1832.0      -25.0   \n",
       "1       Cincinnati, OH             KY       -4.0    1825.0      -37.0   \n",
       "2       Cincinnati, OH             KY       -9.0    1845.0      -17.0   \n",
       "3       Cincinnati, OH             KY       -4.0    1839.0      -23.0   \n",
       "4       Cincinnati, OH             KY       -6.0    1850.0      -12.0   \n",
       "...                ...            ...        ...       ...        ...   \n",
       "583980     Chicago, IL             IL       -9.0    1225.0      -27.0   \n",
       "583981   Santa Ana, CA             CA       35.0    2230.0       17.0   \n",
       "583982     Chicago, IL             IL      132.0    2035.0      113.0   \n",
       "583983     Chicago, IL             IL       32.0     841.0       37.0   \n",
       "583984     Chicago, IL             IL        NaN       NaN        NaN   \n",
       "\n",
       "        ARR_DELAY_NEW  ARR_DEL15  Unnamed: 17  \n",
       "0                 0.0        0.0          NaN  \n",
       "1                 0.0        0.0          NaN  \n",
       "2                 0.0        0.0          NaN  \n",
       "3                 0.0        0.0          NaN  \n",
       "4                 0.0        0.0          NaN  \n",
       "...               ...        ...          ...  \n",
       "583980            0.0        0.0          NaN  \n",
       "583981           17.0        1.0          NaN  \n",
       "583982          113.0        1.0          NaN  \n",
       "583983           37.0        1.0          NaN  \n",
       "583984            NaN        NaN          NaN  \n",
       "\n",
       "[583985 rows x 18 columns]"
      ]
     },
     "execution_count": 2,
     "metadata": {},
     "output_type": "execute_result"
    }
   ],
   "source": [
    "df = pd.read_csv(\"data-p4/Flights1_2019_1.csv\")\n",
    "df"
   ]
  },
  {
   "cell_type": "code",
   "execution_count": 3,
   "metadata": {},
   "outputs": [
    {
     "name": "stderr",
     "output_type": "stream",
     "text": [
      "/Users/mairi/Desktop/code/MAT-4376E-F24/.conda/lib/python3.10/site-packages/numpy/lib/nanfunctions.py:1215: RuntimeWarning: Mean of empty slice\n",
      "  return np.nanmean(a, axis, out=out, keepdims=keepdims)\n",
      "/Users/mairi/Desktop/code/MAT-4376E-F24/.conda/lib/python3.10/site-packages/numpy/lib/nanfunctions.py:1215: RuntimeWarning: Mean of empty slice\n",
      "  return np.nanmean(a, axis, out=out, keepdims=keepdims)\n",
      "/Users/mairi/Desktop/code/MAT-4376E-F24/.conda/lib/python3.10/site-packages/numpy/lib/nanfunctions.py:1215: RuntimeWarning: Mean of empty slice\n",
      "  return np.nanmean(a, axis, out=out, keepdims=keepdims)\n",
      "/Users/mairi/Desktop/code/MAT-4376E-F24/.conda/lib/python3.10/site-packages/numpy/lib/nanfunctions.py:1215: RuntimeWarning: Mean of empty slice\n",
      "  return np.nanmean(a, axis, out=out, keepdims=keepdims)\n",
      "/Users/mairi/Desktop/code/MAT-4376E-F24/.conda/lib/python3.10/site-packages/numpy/lib/nanfunctions.py:1215: RuntimeWarning: Mean of empty slice\n",
      "  return np.nanmean(a, axis, out=out, keepdims=keepdims)\n",
      "/Users/mairi/Desktop/code/MAT-4376E-F24/.conda/lib/python3.10/site-packages/numpy/lib/nanfunctions.py:1215: RuntimeWarning: Mean of empty slice\n",
      "  return np.nanmean(a, axis, out=out, keepdims=keepdims)\n",
      "/Users/mairi/Desktop/code/MAT-4376E-F24/.conda/lib/python3.10/site-packages/numpy/lib/nanfunctions.py:1215: RuntimeWarning: Mean of empty slice\n",
      "  return np.nanmean(a, axis, out=out, keepdims=keepdims)\n",
      "/Users/mairi/Desktop/code/MAT-4376E-F24/.conda/lib/python3.10/site-packages/numpy/lib/nanfunctions.py:1215: RuntimeWarning: Mean of empty slice\n",
      "  return np.nanmean(a, axis, out=out, keepdims=keepdims)\n",
      "/Users/mairi/Desktop/code/MAT-4376E-F24/.conda/lib/python3.10/site-packages/numpy/lib/nanfunctions.py:1215: RuntimeWarning: Mean of empty slice\n",
      "  return np.nanmean(a, axis, out=out, keepdims=keepdims)\n"
     ]
    }
   ],
   "source": [
    "def military_time_to_value(t):\n",
    "    if pd.isna(t):  # Handle NaN explicitly\n",
    "        return np.nan\n",
    "    try:\n",
    "        # Convert to string, ensure it's zero-padded to 4 digits\n",
    "        t = str(int(float(t))).zfill(4)\n",
    "        hours = int(t[:-2])  # First part is hours\n",
    "        minutes = int(t[-2:])  # Last two digits are minutes\n",
    "        return hours * 60 + minutes  # Convert to total minutes\n",
    "    except Exception as e:\n",
    "        print(f\"Error processing time {t}: {e}\")\n",
    "        return np.nan  # Return NaN for invalid inputs\n",
    "\n",
    "df['time_value'] = df['ARR_TIME'].apply(military_time_to_value)\n",
    "\n",
    "# Step 2: Group by specific columns ('group' and 'subgroup') and impute missing values\n",
    "df['ARR_TIME_imp_1439'] = df.groupby(['ORIGIN_AIRPORT_ID', 'DEST_AIRPORT_ID','DAY_OF_WEEK'])['time_value'].transform(\n",
    "    lambda x: x.fillna(x.median())\n",
    ")\n"
   ]
  },
  {
   "cell_type": "code",
   "execution_count": 4,
   "metadata": {},
   "outputs": [],
   "source": [
    "df['ARR_TIME_imp_1439'] = df['ARR_TIME_imp_1439'] % 1439"
   ]
  },
  {
   "cell_type": "code",
   "execution_count": 5,
   "metadata": {},
   "outputs": [
    {
     "data": {
      "text/plain": [
       "9"
      ]
     },
     "execution_count": 5,
     "metadata": {},
     "output_type": "execute_result"
    }
   ],
   "source": [
    "df['ARR_TIME_imp_1439'].isna().sum()"
   ]
  },
  {
   "cell_type": "code",
   "execution_count": 6,
   "metadata": {},
   "outputs": [
    {
     "name": "stderr",
     "output_type": "stream",
     "text": [
      "/Users/mairi/Desktop/code/MAT-4376E-F24/.conda/lib/python3.10/site-packages/numpy/lib/nanfunctions.py:1215: RuntimeWarning: Mean of empty slice\n",
      "  return np.nanmean(a, axis, out=out, keepdims=keepdims)\n",
      "/Users/mairi/Desktop/code/MAT-4376E-F24/.conda/lib/python3.10/site-packages/numpy/lib/nanfunctions.py:1215: RuntimeWarning: Mean of empty slice\n",
      "  return np.nanmean(a, axis, out=out, keepdims=keepdims)\n",
      "/Users/mairi/Desktop/code/MAT-4376E-F24/.conda/lib/python3.10/site-packages/numpy/lib/nanfunctions.py:1215: RuntimeWarning: Mean of empty slice\n",
      "  return np.nanmean(a, axis, out=out, keepdims=keepdims)\n"
     ]
    }
   ],
   "source": [
    "df['ARR_TIME_imp_1439'] = df.groupby(['ORIGIN_AIRPORT_ID', 'DEST_AIRPORT_ID'])['time_value'].transform(\n",
    "    lambda x: x.fillna(x.median())\n",
    ") # fill remaining values based on just airports"
   ]
  },
  {
   "cell_type": "code",
   "execution_count": 7,
   "metadata": {},
   "outputs": [],
   "source": [
    "df['ARR_TIME_imp_1439'] = df.groupby(['DEST_AIRPORT_ID'])['time_value'].transform(\n",
    "    lambda x: x.fillna(x.median())\n",
    ") # fill remaining values based on just airports"
   ]
  },
  {
   "cell_type": "code",
   "execution_count": 8,
   "metadata": {},
   "outputs": [
    {
     "data": {
      "text/plain": [
       "0"
      ]
     },
     "execution_count": 8,
     "metadata": {},
     "output_type": "execute_result"
    }
   ],
   "source": [
    "df['ARR_TIME_imp_1439'].isna().sum()"
   ]
  },
  {
   "cell_type": "code",
   "execution_count": 9,
   "metadata": {},
   "outputs": [
    {
     "name": "stderr",
     "output_type": "stream",
     "text": [
      "/Users/mairi/Desktop/code/MAT-4376E-F24/.conda/lib/python3.10/site-packages/numpy/lib/nanfunctions.py:1215: RuntimeWarning: Mean of empty slice\n",
      "  return np.nanmean(a, axis, out=out, keepdims=keepdims)\n",
      "/Users/mairi/Desktop/code/MAT-4376E-F24/.conda/lib/python3.10/site-packages/numpy/lib/nanfunctions.py:1215: RuntimeWarning: Mean of empty slice\n",
      "  return np.nanmean(a, axis, out=out, keepdims=keepdims)\n",
      "/Users/mairi/Desktop/code/MAT-4376E-F24/.conda/lib/python3.10/site-packages/numpy/lib/nanfunctions.py:1215: RuntimeWarning: Mean of empty slice\n",
      "  return np.nanmean(a, axis, out=out, keepdims=keepdims)\n",
      "/Users/mairi/Desktop/code/MAT-4376E-F24/.conda/lib/python3.10/site-packages/numpy/lib/nanfunctions.py:1215: RuntimeWarning: Mean of empty slice\n",
      "  return np.nanmean(a, axis, out=out, keepdims=keepdims)\n",
      "/Users/mairi/Desktop/code/MAT-4376E-F24/.conda/lib/python3.10/site-packages/numpy/lib/nanfunctions.py:1215: RuntimeWarning: Mean of empty slice\n",
      "  return np.nanmean(a, axis, out=out, keepdims=keepdims)\n",
      "/Users/mairi/Desktop/code/MAT-4376E-F24/.conda/lib/python3.10/site-packages/numpy/lib/nanfunctions.py:1215: RuntimeWarning: Mean of empty slice\n",
      "  return np.nanmean(a, axis, out=out, keepdims=keepdims)\n",
      "/Users/mairi/Desktop/code/MAT-4376E-F24/.conda/lib/python3.10/site-packages/numpy/lib/nanfunctions.py:1215: RuntimeWarning: Mean of empty slice\n",
      "  return np.nanmean(a, axis, out=out, keepdims=keepdims)\n",
      "/Users/mairi/Desktop/code/MAT-4376E-F24/.conda/lib/python3.10/site-packages/numpy/lib/nanfunctions.py:1215: RuntimeWarning: Mean of empty slice\n",
      "  return np.nanmean(a, axis, out=out, keepdims=keepdims)\n",
      "/Users/mairi/Desktop/code/MAT-4376E-F24/.conda/lib/python3.10/site-packages/numpy/lib/nanfunctions.py:1215: RuntimeWarning: Mean of empty slice\n",
      "  return np.nanmean(a, axis, out=out, keepdims=keepdims)\n",
      "/Users/mairi/Desktop/code/MAT-4376E-F24/.conda/lib/python3.10/site-packages/numpy/lib/nanfunctions.py:1215: RuntimeWarning: Mean of empty slice\n",
      "  return np.nanmean(a, axis, out=out, keepdims=keepdims)\n",
      "/Users/mairi/Desktop/code/MAT-4376E-F24/.conda/lib/python3.10/site-packages/numpy/lib/nanfunctions.py:1215: RuntimeWarning: Mean of empty slice\n",
      "  return np.nanmean(a, axis, out=out, keepdims=keepdims)\n",
      "/Users/mairi/Desktop/code/MAT-4376E-F24/.conda/lib/python3.10/site-packages/numpy/lib/nanfunctions.py:1215: RuntimeWarning: Mean of empty slice\n",
      "  return np.nanmean(a, axis, out=out, keepdims=keepdims)\n",
      "/Users/mairi/Desktop/code/MAT-4376E-F24/.conda/lib/python3.10/site-packages/numpy/lib/nanfunctions.py:1215: RuntimeWarning: Mean of empty slice\n",
      "  return np.nanmean(a, axis, out=out, keepdims=keepdims)\n",
      "/Users/mairi/Desktop/code/MAT-4376E-F24/.conda/lib/python3.10/site-packages/numpy/lib/nanfunctions.py:1215: RuntimeWarning: Mean of empty slice\n",
      "  return np.nanmean(a, axis, out=out, keepdims=keepdims)\n",
      "/Users/mairi/Desktop/code/MAT-4376E-F24/.conda/lib/python3.10/site-packages/numpy/lib/nanfunctions.py:1215: RuntimeWarning: Mean of empty slice\n",
      "  return np.nanmean(a, axis, out=out, keepdims=keepdims)\n",
      "/Users/mairi/Desktop/code/MAT-4376E-F24/.conda/lib/python3.10/site-packages/numpy/lib/nanfunctions.py:1215: RuntimeWarning: Mean of empty slice\n",
      "  return np.nanmean(a, axis, out=out, keepdims=keepdims)\n"
     ]
    }
   ],
   "source": [
    "df['ARR_DELAY_imp'] = df.groupby(['ORIGIN_AIRPORT_ID', 'DEST_AIRPORT_ID','DAY_OF_WEEK'])['ARR_DELAY'].transform(\n",
    "    lambda x: x.fillna(x.median())\n",
    ")"
   ]
  },
  {
   "cell_type": "code",
   "execution_count": 10,
   "metadata": {},
   "outputs": [
    {
     "data": {
      "text/plain": [
       "16"
      ]
     },
     "execution_count": 10,
     "metadata": {},
     "output_type": "execute_result"
    }
   ],
   "source": [
    "df['ARR_DELAY_imp'].isna().sum()"
   ]
  },
  {
   "cell_type": "code",
   "execution_count": 11,
   "metadata": {},
   "outputs": [
    {
     "name": "stderr",
     "output_type": "stream",
     "text": [
      "/Users/mairi/Desktop/code/MAT-4376E-F24/.conda/lib/python3.10/site-packages/numpy/lib/nanfunctions.py:1215: RuntimeWarning: Mean of empty slice\n",
      "  return np.nanmean(a, axis, out=out, keepdims=keepdims)\n",
      "/Users/mairi/Desktop/code/MAT-4376E-F24/.conda/lib/python3.10/site-packages/numpy/lib/nanfunctions.py:1215: RuntimeWarning: Mean of empty slice\n",
      "  return np.nanmean(a, axis, out=out, keepdims=keepdims)\n",
      "/Users/mairi/Desktop/code/MAT-4376E-F24/.conda/lib/python3.10/site-packages/numpy/lib/nanfunctions.py:1215: RuntimeWarning: Mean of empty slice\n",
      "  return np.nanmean(a, axis, out=out, keepdims=keepdims)\n"
     ]
    }
   ],
   "source": [
    "df['ARR_DELAY_imp'] = df.groupby(['ORIGIN_AIRPORT_ID', 'DEST_AIRPORT_ID'])['ARR_DELAY'].transform(\n",
    "    lambda x: x.fillna(x.median())\n",
    ")"
   ]
  },
  {
   "cell_type": "code",
   "execution_count": 12,
   "metadata": {},
   "outputs": [
    {
     "data": {
      "text/plain": [
       "4"
      ]
     },
     "execution_count": 12,
     "metadata": {},
     "output_type": "execute_result"
    }
   ],
   "source": [
    "df['ARR_DELAY_imp'].isna().sum()"
   ]
  },
  {
   "cell_type": "code",
   "execution_count": 13,
   "metadata": {},
   "outputs": [],
   "source": [
    "df['ARR_DELAY_imp'] = df.groupby(['DEST_AIRPORT_ID'])['ARR_DELAY'].transform(\n",
    "    lambda x: x.fillna(x.median())\n",
    ")"
   ]
  },
  {
   "cell_type": "code",
   "execution_count": 14,
   "metadata": {},
   "outputs": [
    {
     "data": {
      "text/plain": [
       "0"
      ]
     },
     "execution_count": 14,
     "metadata": {},
     "output_type": "execute_result"
    }
   ],
   "source": [
    "df['ARR_DELAY_imp'].isna().sum()"
   ]
  },
  {
   "cell_type": "code",
   "execution_count": 15,
   "metadata": {},
   "outputs": [
    {
     "name": "stderr",
     "output_type": "stream",
     "text": [
      "/Users/mairi/Desktop/code/MAT-4376E-F24/.conda/lib/python3.10/site-packages/numpy/lib/nanfunctions.py:1215: RuntimeWarning: Mean of empty slice\n",
      "  return np.nanmean(a, axis, out=out, keepdims=keepdims)\n",
      "/Users/mairi/Desktop/code/MAT-4376E-F24/.conda/lib/python3.10/site-packages/numpy/lib/nanfunctions.py:1215: RuntimeWarning: Mean of empty slice\n",
      "  return np.nanmean(a, axis, out=out, keepdims=keepdims)\n",
      "/Users/mairi/Desktop/code/MAT-4376E-F24/.conda/lib/python3.10/site-packages/numpy/lib/nanfunctions.py:1215: RuntimeWarning: Mean of empty slice\n",
      "  return np.nanmean(a, axis, out=out, keepdims=keepdims)\n",
      "/Users/mairi/Desktop/code/MAT-4376E-F24/.conda/lib/python3.10/site-packages/numpy/lib/nanfunctions.py:1215: RuntimeWarning: Mean of empty slice\n",
      "  return np.nanmean(a, axis, out=out, keepdims=keepdims)\n",
      "/Users/mairi/Desktop/code/MAT-4376E-F24/.conda/lib/python3.10/site-packages/numpy/lib/nanfunctions.py:1215: RuntimeWarning: Mean of empty slice\n",
      "  return np.nanmean(a, axis, out=out, keepdims=keepdims)\n",
      "/Users/mairi/Desktop/code/MAT-4376E-F24/.conda/lib/python3.10/site-packages/numpy/lib/nanfunctions.py:1215: RuntimeWarning: Mean of empty slice\n",
      "  return np.nanmean(a, axis, out=out, keepdims=keepdims)\n",
      "/Users/mairi/Desktop/code/MAT-4376E-F24/.conda/lib/python3.10/site-packages/numpy/lib/nanfunctions.py:1215: RuntimeWarning: Mean of empty slice\n",
      "  return np.nanmean(a, axis, out=out, keepdims=keepdims)\n"
     ]
    }
   ],
   "source": [
    "df['DEP_DELAY_imp'] = df.groupby(['ORIGIN_AIRPORT_ID', 'DEST_AIRPORT_ID','DAY_OF_WEEK'])['DEP_DELAY'].transform(\n",
    "    lambda x: x.fillna(x.median())\n",
    ")"
   ]
  },
  {
   "cell_type": "code",
   "execution_count": 16,
   "metadata": {},
   "outputs": [
    {
     "data": {
      "text/plain": [
       "7"
      ]
     },
     "execution_count": 16,
     "metadata": {},
     "output_type": "execute_result"
    }
   ],
   "source": [
    "df['DEP_DELAY_imp'].isna().sum()"
   ]
  },
  {
   "cell_type": "code",
   "execution_count": 17,
   "metadata": {},
   "outputs": [
    {
     "name": "stderr",
     "output_type": "stream",
     "text": [
      "/Users/mairi/Desktop/code/MAT-4376E-F24/.conda/lib/python3.10/site-packages/numpy/lib/nanfunctions.py:1215: RuntimeWarning: Mean of empty slice\n",
      "  return np.nanmean(a, axis, out=out, keepdims=keepdims)\n",
      "/Users/mairi/Desktop/code/MAT-4376E-F24/.conda/lib/python3.10/site-packages/numpy/lib/nanfunctions.py:1215: RuntimeWarning: Mean of empty slice\n",
      "  return np.nanmean(a, axis, out=out, keepdims=keepdims)\n"
     ]
    }
   ],
   "source": [
    "df['DEP_DELAY_imp'] = df.groupby(['ORIGIN_AIRPORT_ID', 'DEST_AIRPORT_ID'])['DEP_DELAY'].transform(\n",
    "    lambda x: x.fillna(x.median())\n",
    ")"
   ]
  },
  {
   "cell_type": "code",
   "execution_count": 18,
   "metadata": {},
   "outputs": [
    {
     "data": {
      "text/plain": [
       "2"
      ]
     },
     "execution_count": 18,
     "metadata": {},
     "output_type": "execute_result"
    }
   ],
   "source": [
    "df['DEP_DELAY_imp'].isna().sum()"
   ]
  },
  {
   "cell_type": "code",
   "execution_count": 19,
   "metadata": {},
   "outputs": [],
   "source": [
    "df['DEP_DELAY_imp'] = df.groupby(['ORIGIN_AIRPORT_ID'])['DEP_DELAY'].transform(\n",
    "    lambda x: x.fillna(x.median())\n",
    ")"
   ]
  },
  {
   "cell_type": "code",
   "execution_count": 20,
   "metadata": {},
   "outputs": [
    {
     "data": {
      "text/plain": [
       "0"
      ]
     },
     "execution_count": 20,
     "metadata": {},
     "output_type": "execute_result"
    }
   ],
   "source": [
    "df['DEP_DELAY_imp'].isna().sum()"
   ]
  },
  {
   "cell_type": "code",
   "execution_count": 21,
   "metadata": {},
   "outputs": [],
   "source": [
    "df['ARR_TIME_sch_1439'] = df['ARR_TIME_imp_1439'] - df['ARR_DELAY_imp']\n",
    "\n",
    "df['ARR_TIME_sch_1439'] = df['ARR_TIME_sch_1439'] % 1439"
   ]
  },
  {
   "cell_type": "code",
   "execution_count": 22,
   "metadata": {},
   "outputs": [],
   "source": [
    "def value_to_military_time(v):\n",
    "    if pd.isna(v):  # Handle NaN explicitly\n",
    "        return None\n",
    "    try:\n",
    "        hours = int(v // 60)\n",
    "        minutes = int(v % 60)\n",
    "        return f\"{hours:02}{minutes:02}\"  # Format as HHMM\n",
    "    except Exception:\n",
    "        return None\n",
    "\n",
    "df['ARR_TIME_sch_military'] = df['ARR_TIME_sch_1439'].apply(value_to_military_time)"
   ]
  },
  {
   "cell_type": "code",
   "execution_count": 23,
   "metadata": {},
   "outputs": [
    {
     "data": {
      "text/plain": [
       "Index(['YEAR', 'DAY_OF_WEEK', 'FL_DATE', 'ORIGIN_AIRPORT_ID',\n",
       "       'ORIGIN_AIRPORT_SEQ_ID', 'ORIGIN_CITY_MARKET_ID', 'ORIGIN_CITY_NAME',\n",
       "       'DEST_AIRPORT_ID', 'DEST_AIRPORT_SEQ_ID', 'DEST_CITY_MARKET_ID',\n",
       "       'DEST_CITY_NAME', 'DEST_STATE_ABR', 'DEP_DELAY', 'ARR_TIME',\n",
       "       'ARR_DELAY', 'ARR_DELAY_NEW', 'ARR_DEL15', 'Unnamed: 17', 'time_value',\n",
       "       'ARR_TIME_imp_1439', 'ARR_DELAY_imp', 'DEP_DELAY_imp',\n",
       "       'ARR_TIME_sch_1439', 'ARR_TIME_sch_military'],\n",
       "      dtype='object')"
      ]
     },
     "execution_count": 23,
     "metadata": {},
     "output_type": "execute_result"
    }
   ],
   "source": [
    "df.columns"
   ]
  },
  {
   "cell_type": "code",
   "execution_count": 24,
   "metadata": {},
   "outputs": [],
   "source": [
    "df.drop(columns=['Unnamed: 17','time_value'],inplace=True)"
   ]
  },
  {
   "cell_type": "code",
   "execution_count": 25,
   "metadata": {},
   "outputs": [],
   "source": [
    "df.to_csv(\"data-p4/impootation.csv\")"
   ]
  }
 ],
 "metadata": {
  "kernelspec": {
   "display_name": ".conda",
   "language": "python",
   "name": "python3"
  },
  "language_info": {
   "codemirror_mode": {
    "name": "ipython",
    "version": 3
   },
   "file_extension": ".py",
   "mimetype": "text/x-python",
   "name": "python",
   "nbconvert_exporter": "python",
   "pygments_lexer": "ipython3",
   "version": "3.10.15"
  }
 },
 "nbformat": 4,
 "nbformat_minor": 2
}
