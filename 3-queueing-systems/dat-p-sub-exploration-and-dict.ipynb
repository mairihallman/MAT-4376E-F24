{
 "cells": [
  {
   "cell_type": "markdown",
   "metadata": {},
   "source": [
    "# data_p_sub.csv"
   ]
  },
  {
   "cell_type": "code",
   "execution_count": 16,
   "metadata": {},
   "outputs": [],
   "source": [
    "import pandas as pd\n",
    "import seaborn as sns\n",
    "import matplotlib.pyplot as plt"
   ]
  },
  {
   "cell_type": "code",
   "execution_count": 3,
   "metadata": {},
   "outputs": [],
   "source": [
    "df = pd.read_csv(\"data-p3/dat_P_sub_c.csv\")"
   ]
  },
  {
   "cell_type": "code",
   "execution_count": 5,
   "metadata": {},
   "outputs": [
    {
     "name": "stdout",
     "output_type": "stream",
     "text": [
      "   Pass_ID  valid_P_ID Airfield               S2  Wait_Time  C_Start  C0  \\\n",
      "0  5348206           1      AUC  2028-09-01 6:37        NaN        1   1   \n",
      "1  5348209           1      AUC  2028-09-01 6:38        NaN        1   1   \n",
      "2  5348216           1      AUC  2028-09-01 6:39        NaN        1   1   \n",
      "3  5348224           1      AUC  2028-09-01 6:39        NaN        1   1   \n",
      "4  5348225           1      AUC  2028-09-01 6:40        NaN        1   1   \n",
      "\n",
      "   C_avg    Sch_Departure    Act_Departure BFO_Dest_City  \\\n",
      "0    1.0  2028-09-01 8:06  2028-09-01 8:06        BORQUE   \n",
      "1    1.0  2028-09-01 8:06  2028-09-01 8:06        BORQUE   \n",
      "2    1.0  2028-09-01 8:06  2028-09-01 8:06        BORQUE   \n",
      "3    1.0  2028-09-01 8:06  2028-09-01 8:06        BORQUE   \n",
      "4    1.0  2028-09-01 8:06  2028-09-01 8:06        BORQUE   \n",
      "\n",
      "  BFO_Destination_Country_Code    order Departure_Date  Time_of_Day  \\\n",
      "0                          BOR  5374650     2028-09-01  2 - MORNING   \n",
      "1                          BOR  5374657     2028-09-01  2 - MORNING   \n",
      "2                          BOR  5374663     2028-09-01  2 - MORNING   \n",
      "3                          BOR  5374676     2028-09-01  2 - MORNING   \n",
      "4                          BOR  5374679     2028-09-01  2 - MORNING   \n",
      "\n",
      "  Period_of_Week Day_of_Week     Month      Season  Year  WT_flag  \\\n",
      "0    1 - WEEKDAY     5 - FRI  09 - SEP  3 - SUMMER  2028        1   \n",
      "1    1 - WEEKDAY     5 - FRI  09 - SEP  3 - SUMMER  2028        1   \n",
      "2    1 - WEEKDAY     5 - FRI  09 - SEP  3 - SUMMER  2028        1   \n",
      "3    1 - WEEKDAY     5 - FRI  09 - SEP  3 - SUMMER  2028        1   \n",
      "4    1 - WEEKDAY     5 - FRI  09 - SEP  3 - SUMMER  2028        1   \n",
      "\n",
      "   S2_Sch_Flag  S2_Act_Flag  Sch_Act_Flag  Flight_ID  Delay_in_Seconds  \n",
      "0            0            0             0      18095                 0  \n",
      "1            0            0             0      18095                 0  \n",
      "2            0            0             0      18095                 0  \n",
      "3            0            0             0      18095                 0  \n",
      "4            0            0             0      18095                 0  \n"
     ]
    }
   ],
   "source": [
    "with pd.option_context('display.max_columns', None):\n",
    "    print(df.head())"
   ]
  },
  {
   "cell_type": "code",
   "execution_count": 20,
   "metadata": {},
   "outputs": [
    {
     "data": {
      "text/plain": [
       "Pass_ID                           int64\n",
       "valid_P_ID                        int64\n",
       "Airfield                         object\n",
       "S2                               object\n",
       "Wait_Time                       float64\n",
       "C_Start                           int64\n",
       "C0                                int64\n",
       "C_avg                           float64\n",
       "Sch_Departure                    object\n",
       "Act_Departure                    object\n",
       "BFO_Dest_City                    object\n",
       "BFO_Destination_Country_Code     object\n",
       "order                             int64\n",
       "Departure_Date                   object\n",
       "Time_of_Day                      object\n",
       "Period_of_Week                   object\n",
       "Day_of_Week                      object\n",
       "Month                            object\n",
       "Season                           object\n",
       "Year                              int64\n",
       "WT_flag                           int64\n",
       "S2_Sch_Flag                       int64\n",
       "S2_Act_Flag                       int64\n",
       "Sch_Act_Flag                      int64\n",
       "Flight_ID                         int64\n",
       "Delay_in_Seconds                  int64\n",
       "dtype: object"
      ]
     },
     "execution_count": 20,
     "metadata": {},
     "output_type": "execute_result"
    }
   ],
   "source": [
    "df.dtypes"
   ]
  },
  {
   "cell_type": "code",
   "execution_count": null,
   "metadata": {},
   "outputs": [
    {
     "data": {
      "text/html": [
       "<div>\n",
       "<style scoped>\n",
       "    .dataframe tbody tr th:only-of-type {\n",
       "        vertical-align: middle;\n",
       "    }\n",
       "\n",
       "    .dataframe tbody tr th {\n",
       "        vertical-align: top;\n",
       "    }\n",
       "\n",
       "    .dataframe thead th {\n",
       "        text-align: right;\n",
       "    }\n",
       "</style>\n",
       "<table border=\"1\" class=\"dataframe\">\n",
       "  <thead>\n",
       "    <tr style=\"text-align: right;\">\n",
       "      <th></th>\n",
       "      <th>Column</th>\n",
       "      <th>Type</th>\n",
       "      <th>Unique Values / Range</th>\n",
       "    </tr>\n",
       "  </thead>\n",
       "  <tbody>\n",
       "    <tr>\n",
       "      <th>0</th>\n",
       "      <td>valid_P_ID</td>\n",
       "      <td>Low Cardinality Integer</td>\n",
       "      <td>[1]</td>\n",
       "    </tr>\n",
       "    <tr>\n",
       "      <th>1</th>\n",
       "      <td>C_Start</td>\n",
       "      <td>Low Cardinality Integer</td>\n",
       "      <td>[1, 2, 3]</td>\n",
       "    </tr>\n",
       "    <tr>\n",
       "      <th>2</th>\n",
       "      <td>C0</td>\n",
       "      <td>Low Cardinality Integer</td>\n",
       "      <td>[1, 2, 3]</td>\n",
       "    </tr>\n",
       "    <tr>\n",
       "      <th>3</th>\n",
       "      <td>Year</td>\n",
       "      <td>Low Cardinality Integer</td>\n",
       "      <td>[2028]</td>\n",
       "    </tr>\n",
       "    <tr>\n",
       "      <th>4</th>\n",
       "      <td>WT_flag</td>\n",
       "      <td>Low Cardinality Integer</td>\n",
       "      <td>[1, 0]</td>\n",
       "    </tr>\n",
       "    <tr>\n",
       "      <th>5</th>\n",
       "      <td>S2_Sch_Flag</td>\n",
       "      <td>Low Cardinality Integer</td>\n",
       "      <td>[0, 1]</td>\n",
       "    </tr>\n",
       "    <tr>\n",
       "      <th>6</th>\n",
       "      <td>S2_Act_Flag</td>\n",
       "      <td>Low Cardinality Integer</td>\n",
       "      <td>[0, 1]</td>\n",
       "    </tr>\n",
       "    <tr>\n",
       "      <th>7</th>\n",
       "      <td>Sch_Act_Flag</td>\n",
       "      <td>Low Cardinality Integer</td>\n",
       "      <td>[0, 1]</td>\n",
       "    </tr>\n",
       "    <tr>\n",
       "      <th>8</th>\n",
       "      <td>Airfield</td>\n",
       "      <td>Object</td>\n",
       "      <td>[AUC]</td>\n",
       "    </tr>\n",
       "    <tr>\n",
       "      <th>9</th>\n",
       "      <td>S2</td>\n",
       "      <td>Object</td>\n",
       "      <td>[2028-09-01 6:37, 2028-09-01 6:38, 2028-09-01 ...</td>\n",
       "    </tr>\n",
       "    <tr>\n",
       "      <th>10</th>\n",
       "      <td>Sch_Departure</td>\n",
       "      <td>Object</td>\n",
       "      <td>[2028-09-01 8:06, 2028-09-01 8:13, 2028-09-01 ...</td>\n",
       "    </tr>\n",
       "    <tr>\n",
       "      <th>11</th>\n",
       "      <td>Act_Departure</td>\n",
       "      <td>Object</td>\n",
       "      <td>[2028-09-01 8:06, 2028-09-01 8:13, 2028-09-01 ...</td>\n",
       "    </tr>\n",
       "    <tr>\n",
       "      <th>12</th>\n",
       "      <td>BFO_Dest_City</td>\n",
       "      <td>Object</td>\n",
       "      <td>[BORQUE, VES033, VES064, BORCWL, NEN003, BOR03...</td>\n",
       "    </tr>\n",
       "    <tr>\n",
       "      <th>13</th>\n",
       "      <td>BFO_Destination_Country_Code</td>\n",
       "      <td>Object</td>\n",
       "      <td>[BOR, VES, NEN,   ., SCO, WIC]</td>\n",
       "    </tr>\n",
       "    <tr>\n",
       "      <th>14</th>\n",
       "      <td>Departure_Date</td>\n",
       "      <td>Object</td>\n",
       "      <td>[2028-09-01, 2028-09-02, 2028-09-03, 2028-09-0...</td>\n",
       "    </tr>\n",
       "    <tr>\n",
       "      <th>15</th>\n",
       "      <td>Time_of_Day</td>\n",
       "      <td>Object</td>\n",
       "      <td>[2 - MORNING, 3 - AFTERNOON, 4 - EVENING, 1 - ...</td>\n",
       "    </tr>\n",
       "    <tr>\n",
       "      <th>16</th>\n",
       "      <td>Period_of_Week</td>\n",
       "      <td>Object</td>\n",
       "      <td>[1 - WEEKDAY, 2 - WEEKEND]</td>\n",
       "    </tr>\n",
       "    <tr>\n",
       "      <th>17</th>\n",
       "      <td>Day_of_Week</td>\n",
       "      <td>Object</td>\n",
       "      <td>[5 - FRI, 6 - SAT, 7 - SUN, 1 - MON, 2 - TUE, ...</td>\n",
       "    </tr>\n",
       "    <tr>\n",
       "      <th>18</th>\n",
       "      <td>Month</td>\n",
       "      <td>Object</td>\n",
       "      <td>[09 - SEP, 10 - OCT, 11 - NOV, 12 - DEC]</td>\n",
       "    </tr>\n",
       "    <tr>\n",
       "      <th>19</th>\n",
       "      <td>Season</td>\n",
       "      <td>Object</td>\n",
       "      <td>[3 - SUMMER, 4 - AUTUMN]</td>\n",
       "    </tr>\n",
       "    <tr>\n",
       "      <th>20</th>\n",
       "      <td>Pass_ID</td>\n",
       "      <td>High Cardinality Integer</td>\n",
       "      <td>(5348206, 6438752)</td>\n",
       "    </tr>\n",
       "    <tr>\n",
       "      <th>21</th>\n",
       "      <td>order</td>\n",
       "      <td>High Cardinality Integer</td>\n",
       "      <td>(5374650, 6459925)</td>\n",
       "    </tr>\n",
       "    <tr>\n",
       "      <th>22</th>\n",
       "      <td>Flight_ID</td>\n",
       "      <td>High Cardinality Integer</td>\n",
       "      <td>(18095, 21678)</td>\n",
       "    </tr>\n",
       "    <tr>\n",
       "      <th>23</th>\n",
       "      <td>Delay_in_Seconds</td>\n",
       "      <td>High Cardinality Integer</td>\n",
       "      <td>(-1440, 100200)</td>\n",
       "    </tr>\n",
       "    <tr>\n",
       "      <th>24</th>\n",
       "      <td>Wait_Time</td>\n",
       "      <td>Continuous</td>\n",
       "      <td>(1.0, 75.0)</td>\n",
       "    </tr>\n",
       "    <tr>\n",
       "      <th>25</th>\n",
       "      <td>C_avg</td>\n",
       "      <td>Continuous</td>\n",
       "      <td>(0.5, 3.0)</td>\n",
       "    </tr>\n",
       "  </tbody>\n",
       "</table>\n",
       "</div>"
      ],
      "text/plain": [
       "                          Column                      Type  \\\n",
       "0                     valid_P_ID   Low Cardinality Integer   \n",
       "1                        C_Start   Low Cardinality Integer   \n",
       "2                             C0   Low Cardinality Integer   \n",
       "3                           Year   Low Cardinality Integer   \n",
       "4                        WT_flag   Low Cardinality Integer   \n",
       "5                    S2_Sch_Flag   Low Cardinality Integer   \n",
       "6                    S2_Act_Flag   Low Cardinality Integer   \n",
       "7                   Sch_Act_Flag   Low Cardinality Integer   \n",
       "8                       Airfield                    Object   \n",
       "9                             S2                    Object   \n",
       "10                 Sch_Departure                    Object   \n",
       "11                 Act_Departure                    Object   \n",
       "12                 BFO_Dest_City                    Object   \n",
       "13  BFO_Destination_Country_Code                    Object   \n",
       "14                Departure_Date                    Object   \n",
       "15                   Time_of_Day                    Object   \n",
       "16                Period_of_Week                    Object   \n",
       "17                   Day_of_Week                    Object   \n",
       "18                         Month                    Object   \n",
       "19                        Season                    Object   \n",
       "20                       Pass_ID  High Cardinality Integer   \n",
       "21                         order  High Cardinality Integer   \n",
       "22                     Flight_ID  High Cardinality Integer   \n",
       "23              Delay_in_Seconds  High Cardinality Integer   \n",
       "24                     Wait_Time                Continuous   \n",
       "25                         C_avg                Continuous   \n",
       "\n",
       "                                Unique Values / Range  \n",
       "0                                                 [1]  \n",
       "1                                           [1, 2, 3]  \n",
       "2                                           [1, 2, 3]  \n",
       "3                                              [2028]  \n",
       "4                                              [1, 0]  \n",
       "5                                              [0, 1]  \n",
       "6                                              [0, 1]  \n",
       "7                                              [0, 1]  \n",
       "8                                               [AUC]  \n",
       "9   [2028-09-01 6:37, 2028-09-01 6:38, 2028-09-01 ...  \n",
       "10  [2028-09-01 8:06, 2028-09-01 8:13, 2028-09-01 ...  \n",
       "11  [2028-09-01 8:06, 2028-09-01 8:13, 2028-09-01 ...  \n",
       "12  [BORQUE, VES033, VES064, BORCWL, NEN003, BOR03...  \n",
       "13                     [BOR, VES, NEN,   ., SCO, WIC]  \n",
       "14  [2028-09-01, 2028-09-02, 2028-09-03, 2028-09-0...  \n",
       "15  [2 - MORNING, 3 - AFTERNOON, 4 - EVENING, 1 - ...  \n",
       "16                         [1 - WEEKDAY, 2 - WEEKEND]  \n",
       "17  [5 - FRI, 6 - SAT, 7 - SUN, 1 - MON, 2 - TUE, ...  \n",
       "18           [09 - SEP, 10 - OCT, 11 - NOV, 12 - DEC]  \n",
       "19                           [3 - SUMMER, 4 - AUTUMN]  \n",
       "20                                 (5348206, 6438752)  \n",
       "21                                 (5374650, 6459925)  \n",
       "22                                     (18095, 21678)  \n",
       "23                                    (-1440, 100200)  \n",
       "24                                        (1.0, 75.0)  \n",
       "25                                         (0.5, 3.0)  "
      ]
     },
     "execution_count": 35,
     "metadata": {},
     "output_type": "execute_result"
    }
   ],
   "source": [
    "low_cardinality_int_cols = [col for col in df.select_dtypes(include=['int']).columns if df[col].nunique() < 10]\n",
    "object_cols = df.select_dtypes(include=['object']).columns.tolist()\n",
    "high_cardinality_int_cols = [col for col in df.select_dtypes(include=['int']).columns if df[col].nunique() >= 10]\n",
    "continuous_cols = df.select_dtypes(include=['float']).columns.tolist()\n",
    "\n",
    "dtypes = {\n",
    "    \"Column\": [],\n",
    "    \"Type\": [],\n",
    "    \"Unique Values / Range\": []\n",
    "}\n",
    "\n",
    "for col in low_cardinality_int_cols + object_cols:\n",
    "    unique_vals = df[col].unique()\n",
    "    dtypes[\"Column\"].append(col)\n",
    "    dtypes[\"Type\"].append(\"Low Cardinality Integer\" if col in low_cardinality_int_cols else \"Object\")\n",
    "    dtypes[\"Unique Values / Range\"].append(unique_vals)\n",
    "\n",
    "for col in high_cardinality_int_cols + continuous_cols:\n",
    "    min_val = df[col].min()\n",
    "    max_val = df[col].max()\n",
    "    dtypes[\"Column\"].append(col)\n",
    "    dtypes[\"Type\"].append(\"High Cardinality Integer\" if col in high_cardinality_int_cols else \"Continuous\")\n",
    "    dtypes[\"Unique Values / Range\"].append((min_val, max_val))\n",
    "\n",
    "df_dtypes = pd.DataFrame(dtypes)\n",
    "df_dtypes"
   ]
  },
  {
   "cell_type": "code",
   "execution_count": 22,
   "metadata": {},
   "outputs": [
    {
     "name": "stdout",
     "output_type": "stream",
     "text": [
      "| Pass_ID | | | | |\n",
      "| valid_P_ID | | | | |\n",
      "| Airfield | | | | |\n",
      "| S2 | | | | |\n",
      "| Wait_Time | | | | |\n",
      "| C_Start | | | | |\n",
      "| C0 | | | | |\n",
      "| C_avg | | | | |\n",
      "| Sch_Departure | | | | |\n",
      "| Act_Departure | | | | |\n",
      "| BFO_Dest_City | | | | |\n",
      "| BFO_Destination_Country_Code | | | | |\n",
      "| order | | | | |\n",
      "| Departure_Date | | | | |\n",
      "| Time_of_Day | | | | |\n",
      "| Period_of_Week | | | | |\n",
      "| Day_of_Week | | | | |\n",
      "| Month | | | | |\n",
      "| Season | | | | |\n",
      "| Year | | | | |\n",
      "| WT_flag | | | | |\n",
      "| S2_Sch_Flag | | | | |\n",
      "| S2_Act_Flag | | | | |\n",
      "| Sch_Act_Flag | | | | |\n",
      "| Flight_ID | | | | |\n",
      "| Delay_in_Seconds | | | | |\n"
     ]
    }
   ],
   "source": [
    "for i in df.columns:\n",
    "    print(f\"| {i} | | | | |\")"
   ]
  },
  {
   "cell_type": "markdown",
   "metadata": {},
   "source": [
    "| Field    | Type | Format | Range | Description\n",
    "| --- | --- | --- | --- | --- |\n",
    "| Pass_ID | | | | |\n",
    "| valid_P_ID | | | | |\n",
    "| Airfield | | | | |\n",
    "| S2 | | | | |\n",
    "| Wait_Time | | | | |\n",
    "| C_Start | | | | |\n",
    "| C0 | | | | |\n",
    "| C_avg | | | | |\n",
    "| Sch_Departure | | | | |\n",
    "| Act_Departure | | | | |\n",
    "| BFO_Dest_City | | | | |\n",
    "| BFO_Destination_Country_Code | | | | |\n",
    "| order | | | | |\n",
    "| Departure_Date | | | | |\n",
    "| Time_of_Day | | | | |\n",
    "| Period_of_Week | | | | |\n",
    "| Day_of_Week | | | | |\n",
    "| Month | | | | |\n",
    "| Season | | | | |\n",
    "| Year | | | | |\n",
    "| WT_flag | | | | |\n",
    "| S2_Sch_Flag | | | | |\n",
    "| S2_Act_Flag | | | | |\n",
    "| Sch_Act_Flag | | | | |\n",
    "| Flight_ID | | | | |\n",
    "| Delay_in_Seconds | | | | |"
   ]
  },
  {
   "cell_type": "code",
   "execution_count": 14,
   "metadata": {},
   "outputs": [
    {
     "data": {
      "text/plain": [
       "array([1, 0], dtype=int64)"
      ]
     },
     "execution_count": 14,
     "metadata": {},
     "output_type": "execute_result"
    }
   ],
   "source": [
    "df['WT_flag'].unique()"
   ]
  },
  {
   "cell_type": "code",
   "execution_count": 8,
   "metadata": {},
   "outputs": [
    {
     "data": {
      "text/plain": [
       "array([1, 2, 3], dtype=int64)"
      ]
     },
     "execution_count": 8,
     "metadata": {},
     "output_type": "execute_result"
    }
   ],
   "source": [
    "df[\"C_Start\"].unique()"
   ]
  },
  {
   "cell_type": "code",
   "execution_count": 9,
   "metadata": {},
   "outputs": [
    {
     "data": {
      "text/plain": [
       "array([1, 2, 3], dtype=int64)"
      ]
     },
     "execution_count": 9,
     "metadata": {},
     "output_type": "execute_result"
    }
   ],
   "source": [
    "df[\"C0\"].unique()"
   ]
  },
  {
   "cell_type": "code",
   "execution_count": 10,
   "metadata": {},
   "outputs": [
    {
     "data": {
      "text/plain": [
       "array([1.        , 2.        , 1.5       , 0.5       , 1.33333333,\n",
       "       1.2       , 1.66666667, 2.33333333, 2.5       , 2.66666667,\n",
       "       3.        , 1.75      , 0.75      ])"
      ]
     },
     "execution_count": 10,
     "metadata": {},
     "output_type": "execute_result"
    }
   ],
   "source": [
    "df[\"C_avg\"].unique()"
   ]
  },
  {
   "cell_type": "code",
   "execution_count": 31,
   "metadata": {},
   "outputs": [
    {
     "data": {
      "image/png": "[encoded data removed]",
      "text/plain": [
       "<Figure size 1000x600 with 1 Axes>"
      ]
     },
     "metadata": {},
     "output_type": "display_data"
    }
   ],
   "source": [
    "plt.figure(figsize=(10, 6))\n",
    "sns.boxplot(x='WT_flag', y='Wait_Time', data=df)\n",
    "plt.title(\"Wait Time Distribution by WT_flag\")\n",
    "plt.xlabel(\"WT_flag\")\n",
    "plt.ylabel(\"Wait_Time\")\n",
    "plt.show()"
   ]
  },
  {
   "cell_type": "code",
   "execution_count": 33,
   "metadata": {},
   "outputs": [
    {
     "data": {
      "text/plain": [
       "array([nan])"
      ]
     },
     "execution_count": 33,
     "metadata": {},
     "output_type": "execute_result"
    }
   ],
   "source": [
    "df.loc[df['WT_flag'] == 1, 'Wait_Time'].unique()"
   ]
  },
  {
   "cell_type": "markdown",
   "metadata": {},
   "source": [
    "WT_flag seems to represent if the Wait_Time variable is unique"
   ]
  },
  {
   "cell_type": "code",
   "execution_count": 30,
   "metadata": {},
   "outputs": [],
   "source": [
    "# plt.figure(figsize=(12, 10))\n",
    "# corr_matrix = df.select_dtypes(include=['number']).drop(columns=[\"valid_P_ID\",\"Year\"]).dropna().corr()\n",
    "# sns.heatmap(corr_matrix, annot=True)\n",
    "# plt.show()"
   ]
  },
  {
   "cell_type": "code",
   "execution_count": 29,
   "metadata": {},
   "outputs": [
    {
     "data": {
      "text/plain": [
       "WT_flag\n",
       "0    97261\n",
       "1    16871\n",
       "Name: count, dtype: int64"
      ]
     },
     "execution_count": 29,
     "metadata": {},
     "output_type": "execute_result"
    }
   ],
   "source": [
    "df[\"WT_flag\"].value_counts()"
   ]
  },
  {
   "cell_type": "code",
   "execution_count": 12,
   "metadata": {},
   "outputs": [
    {
     "data": {
      "text/plain": [
       "Index(['Pass_ID', 'valid_P_ID', 'Airfield', 'S2', 'Wait_Time', 'C_Start', 'C0',\n",
       "       'C_avg', 'Sch_Departure', 'Act_Departure', 'BFO_Dest_City',\n",
       "       'BFO_Destination_Country_Code', 'order', 'Departure_Date',\n",
       "       'Time_of_Day', 'Period_of_Week', 'Day_of_Week', 'Month', 'Season',\n",
       "       'Year', 'WT_flag', 'S2_Sch_Flag', 'S2_Act_Flag', 'Sch_Act_Flag',\n",
       "       'Flight_ID', 'Delay_in_Seconds'],\n",
       "      dtype='object')"
      ]
     },
     "execution_count": 12,
     "metadata": {},
     "output_type": "execute_result"
    }
   ],
   "source": [
    "df.columns"
   ]
  },
  {
   "cell_type": "code",
   "execution_count": null,
   "metadata": {},
   "outputs": [
    {
     "data": {
      "text/plain": [
       "Pass_ID                           int64\n",
       "valid_P_ID                        int64\n",
       "Airfield                         object\n",
       "S2                               object\n",
       "Wait_Time                       float64\n",
       "C_Start                           int64\n",
       "C0                                int64\n",
       "C_avg                           float64\n",
       "Sch_Departure                    object\n",
       "Act_Departure                    object\n",
       "BFO_Dest_City                    object\n",
       "BFO_Destination_Country_Code     object\n",
       "order                             int64\n",
       "Departure_Date                   object\n",
       "Time_of_Day                      object\n",
       "Period_of_Week                   object\n",
       "Day_of_Week                      object\n",
       "Month                            object\n",
       "Season                           object\n",
       "Year                              int64\n",
       "WT_flag                           int64\n",
       "S2_Sch_Flag                       int64\n",
       "S2_Act_Flag                       int64\n",
       "Sch_Act_Flag                      int64\n",
       "Flight_ID                         int64\n",
       "Delay_in_Seconds                  int64\n",
       "dtype: object"
      ]
     },
     "execution_count": 4,
     "metadata": {},
     "output_type": "execute_result"
    }
   ],
   "source": []
  },
  {
   "cell_type": "code",
   "execution_count": 18,
   "metadata": {},
   "outputs": [],
   "source": [
    "# def convert_to_datetime(df):\n",
    "#     converted_columns = []\n",
    "#     for col in df.columns:\n",
    "#         try:\n",
    "#             df[col] = pd.to_datetime(df[col], errors='raise')\n",
    "#             converted_columns.append(col)\n",
    "#         except (ValueError, TypeError):\n",
    "#             pass\n",
    "#     print(\"Converted columns:\", converted_columns)\n",
    "#     return df\n",
    "\n",
    "# df = convert_to_datetime(df)"
   ]
  },
  {
   "cell_type": "code",
   "execution_count": null,
   "metadata": {},
   "outputs": [],
   "source": []
  },
  {
   "cell_type": "code",
   "execution_count": 8,
   "metadata": {},
   "outputs": [
    {
     "data": {
      "text/plain": [
       "Airfield\n",
       "AUC    114132\n",
       "Name: count, dtype: int64"
      ]
     },
     "execution_count": 8,
     "metadata": {},
     "output_type": "execute_result"
    }
   ],
   "source": [
    "df[\"Airfield\"].value_counts()"
   ]
  },
  {
   "cell_type": "markdown",
   "metadata": {},
   "source": [
    "only one airfield? weird"
   ]
  },
  {
   "cell_type": "code",
   "execution_count": 9,
   "metadata": {},
   "outputs": [
    {
     "data": {
      "text/plain": [
       "S2\n",
       "2028-11-25 18:34    10\n",
       "2028-12-29 17:30    10\n",
       "2028-12-30 18:51     9\n",
       "2028-12-23 8:01      9\n",
       "2028-11-12 17:19     9\n",
       "                    ..\n",
       "2028-10-24 12:51     1\n",
       "2028-10-24 13:40     1\n",
       "2028-10-24 13:45     1\n",
       "2028-10-24 13:47     1\n",
       "2028-12-31 19:21     1\n",
       "Name: count, Length: 63179, dtype: int64"
      ]
     },
     "execution_count": 9,
     "metadata": {},
     "output_type": "execute_result"
    }
   ],
   "source": [
    "df['S2'].value_counts()"
   ]
  },
  {
   "cell_type": "code",
   "execution_count": 10,
   "metadata": {},
   "outputs": [
    {
     "data": {
      "text/plain": [
       "Sch_Departure\n",
       "2028-10-28 19:46    229\n",
       "2028-11-04 18:46    220\n",
       "2028-11-11 19:46    209\n",
       "2028-11-21 9:51     166\n",
       "2028-12-27 12:36    159\n",
       "                   ... \n",
       "2028-09-12 12:36      1\n",
       "2028-11-18 14:31      1\n",
       "2028-11-18 16:06      1\n",
       "2028-09-02 12:16      1\n",
       "2028-12-20 20:46      1\n",
       "Name: count, Length: 3433, dtype: int64"
      ]
     },
     "execution_count": 10,
     "metadata": {},
     "output_type": "execute_result"
    }
   ],
   "source": [
    "df['Sch_Departure'].value_counts()"
   ]
  }
 ],
 "metadata": {
  "kernelspec": {
   "display_name": ".conda",
   "language": "python",
   "name": "python3"
  },
  "language_info": {
   "codemirror_mode": {
    "name": "ipython",
    "version": 3
   },
   "file_extension": ".py",
   "mimetype": "text/x-python",
   "name": "python",
   "nbconvert_exporter": "python",
   "pygments_lexer": "ipython3",
   "version": "3.11.10"
  }
 },
 "nbformat": 4,
 "nbformat_minor": 2
}
